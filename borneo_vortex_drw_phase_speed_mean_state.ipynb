{
 "cells": [
  {
   "cell_type": "markdown",
   "id": "bb666d51",
   "metadata": {},
   "source": [
    "## Calculate the mean zonal wind speed over the duration of the case study\n",
    "\n",
    "- Between 12 UTC on 21 October and 12 UTC on 26 October 2018\n",
    "- Calculate mean flow over specified latitude-longitude strip, and on specific model height levels"
   ]
  },
  {
   "cell_type": "code",
   "execution_count": 2,
   "id": "5867ec82",
   "metadata": {},
   "outputs": [],
   "source": [
    "import xarray as xr"
   ]
  },
  {
   "cell_type": "code",
   "execution_count": 3,
   "id": "362b4d0e",
   "metadata": {},
   "outputs": [],
   "source": [
    "lon_start = [104.0]\n",
    "lon_end = [120.0]\n",
    "lat_start = [5.5]\n",
    "lat_end = [7.0]\n",
    "\n",
    "upper_height_level = 7000\n",
    "lower_height_level = 1400"
   ]
  },
  {
   "cell_type": "markdown",
   "id": "3f044b82",
   "metadata": {},
   "source": [
    "### Handle exceptions so that code still runs even without all input times"
   ]
  },
  {
   "cell_type": "code",
   "execution_count": 6,
   "id": "ddc57db4",
   "metadata": {},
   "outputs": [],
   "source": [
    "it = 0\n",
    "\n",
    "uwind_upper = []\n",
    "uwind_mid = []\n",
    "uwind_lower = []\n",
    "\n",
    "for Tp in [12,24,36,48,60,72,84,96,108,120]:\n",
    "    \n",
    "    time = int(Tp)-12\n",
    "    gl_pe='/nobackup/earshar/borneo/case_20181021T1200Z_N768_v2/umglaa_pe{0:03d}.nc'.format(time)\n",
    "    \n",
    "    try:\n",
    "        input_data_pe = xr.open_dataset(gl_pe) # vertical velocity \n",
    "    except FileNotFoundError:\n",
    "        continue\n",
    "    \n",
    "    if Tp == 12:\n",
    "        uwind_u = input_data_pe.u[1,:,:,:].sel(hybrid_ht=upper_height_level, \n",
    "                                               method='nearest').sel(latitude=slice(lat_start[0], \n",
    "                                               lat_end[0])).sel(longitude=slice(lon_start[0], lon_end[0]))\n",
    "        \n",
    "        uwind_m = input_data_pe.u[1,:,:,:].sel(hybrid_ht=slice(4500,5000)).sel(latitude=slice(lat_start[0], \n",
    "                                               lat_end[0])).sel(longitude=slice(lon_start[0], lon_end[0]))\n",
    "\n",
    "        uwind_l = input_data_pe.u[1,:,:,:].sel(hybrid_ht=lower_height_level, \n",
    "                                               method='nearest').sel(latitude=slice(lat_start[0], \n",
    "                                               lat_end[0])).sel(longitude=slice(lon_start[0], lon_end[0]))\n",
    "    else:     \n",
    "        uwind_u = input_data_pe.u.squeeze('t').sel(hybrid_ht_1=upper_height_level, \n",
    "                                                   method='nearest').sel(latitude=slice(lat_start[0], \n",
    "                                                   lat_end[0])).sel(longitude_1=slice(lon_start[0], lon_end[0]))\n",
    "\n",
    "        uwind_m = input_data_pe.u.squeeze('t').sel(hybrid_ht_1=slice(4500,5000)).sel(latitude=slice(lat_start[0], \n",
    "                                                   lat_end[0])).sel(longitude_1=slice(lon_start[0], lon_end[0]))\n",
    "\n",
    "        uwind_l = input_data_pe.u.squeeze('t').sel(hybrid_ht_1=lower_height_level, \n",
    "                                                   method='nearest').sel(latitude=slice(lat_start[0], \n",
    "                                                   lat_end[0])).sel(longitude_1=slice(lon_start[0], lon_end[0]))\n",
    "    \n",
    "    uwind_upper_1d = uwind_u.data.reshape(uwind_u.size)\n",
    "    uwind_upper.append(uwind_upper_1d)\n",
    "    \n",
    "    uwind_mid_1d = uwind_m.data.reshape(uwind_m.size)\n",
    "    uwind_mid.append(uwind_mid_1d)   \n",
    "    \n",
    "    uwind_lower_1d = uwind_l.data.reshape(uwind_l.size)\n",
    "    uwind_lower.append(uwind_lower_1d)\n",
    "    \n",
    "    it += 1"
   ]
  },
  {
   "cell_type": "code",
   "execution_count": 10,
   "id": "247306f9",
   "metadata": {},
   "outputs": [],
   "source": [
    "uwind_upper_all = [val for uwind_upper in uwind_upper for val in uwind_upper]\n",
    "uwind_mid_all = [val for uwind_mid in uwind_mid for val in uwind_mid]\n",
    "uwind_lower_all = [val for uwind_lower in uwind_lower for val in uwind_lower]"
   ]
  },
  {
   "cell_type": "markdown",
   "id": "cc5d6567",
   "metadata": {},
   "source": [
    "### Calculate mean zonal wind over specified region"
   ]
  },
  {
   "cell_type": "code",
   "execution_count": 11,
   "id": "bfe661fd",
   "metadata": {},
   "outputs": [],
   "source": [
    "uwind_upper_mean = sum(uwind_upper_all) / len(uwind_upper_all)\n",
    "uwind_mid_mean = sum(uwind_mid_all) / len(uwind_mid_all)\n",
    "uwind_lower_mean = sum(uwind_lower_all) / len(uwind_lower_all)"
   ]
  },
  {
   "cell_type": "code",
   "execution_count": 12,
   "id": "79f0f8e3",
   "metadata": {},
   "outputs": [
    {
     "data": {
      "text/plain": [
       "(-8.234661917928337, -5.893741624953522, -0.8943267928794923)"
      ]
     },
     "execution_count": 12,
     "metadata": {},
     "output_type": "execute_result"
    }
   ],
   "source": [
    "uwind_upper_mean, uwind_mid_mean, uwind_lower_mean"
   ]
  }
 ],
 "metadata": {
  "kernelspec": {
   "display_name": "shardy_env",
   "language": "python",
   "name": "python3"
  },
  "language_info": {
   "codemirror_mode": {
    "name": "ipython",
    "version": 3
   },
   "file_extension": ".py",
   "mimetype": "text/x-python",
   "name": "python",
   "nbconvert_exporter": "python",
   "pygments_lexer": "ipython3",
   "version": "3.7.6"
  },
  "vscode": {
   "interpreter": {
    "hash": "28fbcd74c9565cd7ca8c41a4b3cbb005854fa8f252725617f8dd647821f36998"
   }
  }
 },
 "nbformat": 4,
 "nbformat_minor": 5
}
