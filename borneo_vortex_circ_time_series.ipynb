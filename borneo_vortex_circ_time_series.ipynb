{
 "cells": [
  {
   "cell_type": "markdown",
   "id": "34495824",
   "metadata": {},
   "source": [
    "## Calculate area-averaged relative vorticity following the vortex \n",
    "\n",
    "- Compare calculations from ERA5 reanalysis against global and 4.4 km MetUM forecasts\n",
    "- Figure 5(a) in the paper"
   ]
  },
  {
   "cell_type": "code",
   "execution_count": 72,
   "id": "9c6a326a",
   "metadata": {},
   "outputs": [],
   "source": [
    "import xarray as xr\n",
    "import pandas as pd\n",
    "import metpy.calc as mpcalc\n",
    "import matplotlib.pyplot as plt\n",
    "\n",
    "%matplotlib inline"
   ]
  },
  {
   "cell_type": "markdown",
   "id": "6b1a69c3",
   "metadata": {},
   "source": [
    "### Define the latitude and longitude bounds for our calculations"
   ]
  },
  {
   "cell_type": "code",
   "execution_count": 73,
   "id": "362b4d0e",
   "metadata": {},
   "outputs": [],
   "source": [
    "lon_start = 88.0\n",
    "lon_end = 130.0\n",
    "lat_start = -6.0\n",
    "lat_end = 23.0\n",
    "\n",
    "bounds = [lon_start, lon_end, lat_start, lat_end]"
   ]
  },
  {
   "cell_type": "markdown",
   "id": "14a3cbd5",
   "metadata": {},
   "source": [
    "### Read in 4.4 km MetUM data and subset"
   ]
  },
  {
   "cell_type": "code",
   "execution_count": 83,
   "id": "1d00ec27",
   "metadata": {},
   "outputs": [],
   "source": [
    "data_path_4p4 = '/nobackup/earshar/borneo/20181021T1200Z_SEA4_km4p4_ra1tld_pverc.nc'\n",
    "try:\n",
    "    data_4p4 = xr.open_dataset(data_path_4p4).metpy.parse_cf()\n",
    "    data_4p4 = data_4p4.sel( longitude = slice(bounds[0], bounds[1]),\n",
    "                            latitude = slice(bounds[2], bounds[3]),\n",
    "                            longitude_1 = slice(bounds[0], bounds[1]),\n",
    "                            latitude_1 = slice(bounds[2], bounds[3]))\n",
    "except FileNotFoundError:\n",
    "    print(f'File not found at {data_path_4p4}, please check directory path!')"
   ]
  },
  {
   "cell_type": "markdown",
   "id": "c437e4f6",
   "metadata": {},
   "source": [
    "### Read in global (N768) MetUM data and subset\n",
    "\n",
    "- Code throws an error related to dimension `hybrid_ht_1` when reading in `umglaa_pe000.nc` file\n",
    "- Quick fix is to remove this file from the directory path (`data_path_n768`)"
   ]
  },
  {
   "cell_type": "code",
   "execution_count": 84,
   "id": "63044305",
   "metadata": {},
   "outputs": [
    {
     "name": "stderr",
     "output_type": "stream",
     "text": [
      "Found valid latitude/longitude coordinates, assuming latitude_longitude for projection grid_mapping variable\n",
      "Found valid latitude/longitude coordinates, assuming latitude_longitude for projection grid_mapping variable\n"
     ]
    }
   ],
   "source": [
    "data_path_n768 = '/nobackup/earshar/borneo/case_20181021T1200Z_N768_v2/nc/umglaa_pe*.nc'\n",
    "try:\n",
    "    data_n768 = xr.open_mfdataset(data_path_n768, combine='by_coords', \n",
    "                                  drop_variables=['field83','dz_dt'],\n",
    "                                  chunks={\"t\": 5}).metpy.parse_cf()\n",
    "    data_n768 = data_n768.sel(longitude=slice(bounds[0], bounds[1]),\n",
    "                            latitude=slice(bounds[2], bounds[3]),\n",
    "                            longitude_1=slice(bounds[0], bounds[1]),\n",
    "                            latitude_1=slice(bounds[2], bounds[3])\n",
    "                            )\n",
    "except FileNotFoundError:\n",
    "    print(f'File not found at {data_path_n768}, please check directory path!')"
   ]
  },
  {
   "cell_type": "markdown",
   "id": "b09035fb",
   "metadata": {},
   "source": [
    "### Read in ERA5 data and subset\n",
    "\n",
    "- Read in ERA5 data for entire month (October 2018)\n",
    "- Rearrange latitude dimension to run to south to north\n",
    "- Drop a load of unnecessary variables when opening the dataset\n",
    "- Select the correct range of dates (12 UTC on 21 October to 12 UTC on 26 October)"
   ]
  },
  {
   "cell_type": "code",
   "execution_count": 85,
   "id": "0b3adeb0",
   "metadata": {},
   "outputs": [
    {
     "name": "stderr",
     "output_type": "stream",
     "text": [
      "Found valid latitude/longitude coordinates, assuming latitude_longitude for projection grid_mapping variable\n",
      "Found valid latitude/longitude coordinates, assuming latitude_longitude for projection grid_mapping variable\n",
      "Found valid latitude/longitude coordinates, assuming latitude_longitude for projection grid_mapping variable\n"
     ]
    }
   ],
   "source": [
    "data_path_era5 = '/nobackup/earshar/borneo/bv_oct2018.grib'\n",
    "data_era5 = xr.open_dataset(data_path_era5, \n",
    "                            engine=\"cfgrib\",\n",
    "                            drop_variables=['ciwc','clwc','crwc','cswc','q','r','pv','w','t']).metpy.parse_cf()\n",
    "data_era5 = data_era5.reindex(latitude=data_era5.latitude[::-1])\n",
    "data_era5 = data_era5.sel(time = slice('2018-10-21T12', '2018-10-26T12'), \n",
    "                          longitude = slice(bounds[0], bounds[1]),\n",
    "                          latitude = slice(bounds[2], bounds[3]) )"
   ]
  },
  {
   "cell_type": "markdown",
   "id": "98dd7f8e",
   "metadata": {},
   "source": [
    "### Extract `u` and `v` variables from all datasets\n",
    "\n",
    "- ERA5, global (N768) MetUM, 4.4 km MetUM\n",
    "- Select vertical level to calculate circulation (area-averaged relative vorticity)\n",
    "- Interpolate N768 `v` and `u` variables onto same grid (align coordinates)"
   ]
  },
  {
   "cell_type": "code",
   "execution_count": 86,
   "id": "60dbbf96",
   "metadata": {},
   "outputs": [],
   "source": [
    "plev = 850\n",
    "u_era5 = data_era5.u.sel(isobaricInhPa=plev,method='nearest')\n",
    "v_era5 = data_era5.v.sel(isobaricInhPa=plev,method='nearest')\n",
    "u_4p4 = data_4p4.u.sel(p=plev,method='nearest')\n",
    "v_4p4 = data_4p4.v.sel(p=plev,method='nearest')\n",
    "u_n768 = data_n768.u.sel(hybrid_ht_1=int(1.4e+03), method=\"nearest\" )\n",
    "v_n768 = data_n768.v.sel(hybrid_ht_1=int(1.4e+03), method=\"nearest\" )\n",
    "\n",
    "v_n768 = v_n768.interp(latitude_1=u_n768.latitude)\n",
    "u_n768 = u_n768.interp(longitude_1=v_n768.longitude)"
   ]
  },
  {
   "cell_type": "markdown",
   "id": "e0818521",
   "metadata": {},
   "source": [
    "### Read in vortex track and intensity data"
   ]
  },
  {
   "cell_type": "code",
   "execution_count": 88,
   "id": "be97c8d9",
   "metadata": {},
   "outputs": [],
   "source": [
    "vortex_path = '/home/home02/earshar/borneo_vortex/borneo_vortex_2018102112_track.txt'\n",
    "vortex_df = pd.read_csv(vortex_path, sep=' & ', engine='python', na_filter=True, na_values=\"1.000000e+25\")\n",
    "vortex_df['Time'] = pd.to_datetime(vortex_df['Time'], format='%Y%m%d%H')\n",
    "bv_lat = vortex_df.loc[0:20, \"lat_vort\"];\n",
    "bv_lon = vortex_df.loc[0:20, \"lon_vort\"]\n",
    "bv_time = vortex_df.loc[0:20, \"Time\"]"
   ]
  },
  {
   "cell_type": "markdown",
   "id": "1f000cfa",
   "metadata": {},
   "source": [
    "### Calculate area-averaged vorticity for 4.4 km MetUM \n",
    "\n",
    "- Create lists to hold values for plotting \n",
    "- Set radius for calculation\n",
    "- Set indices in vortex array for 12-h intervals (`xi`)"
   ]
  },
  {
   "cell_type": "code",
   "execution_count": 89,
   "id": "c7eb4159",
   "metadata": {},
   "outputs": [],
   "source": [
    "circ_4p4_list = []\n",
    "circ_era5_list = []\n",
    "circ_n768_list = []\n",
    "datetime_list = ['2018-10-21T12', '2018-10-22T00', '2018-10-22T12', '2018-10-23T00', \n",
    "                 '2018-10-23T12', '2018-10-24T00', '2018-10-24T12', '2018-10-25T00',\n",
    "                 '2018-10-25T12', '2018-10-26T00', '2018-10-26T12']\n",
    "xi = [0,2,4,6,8,10,12,14,16,18,20]\n",
    "r0 = 3.0\n",
    "\n",
    "for i, it in enumerate(datetime_list):\n",
    "\n",
    "    xii = xi[i]\n",
    "    u_4p4_t0 = u_4p4.sel(t=datetime_list[i])\n",
    "    v_4p4_t0 = v_4p4.sel(t=datetime_list[i])\n",
    "\n",
    "    vort_4p4 = mpcalc.vorticity(u_4p4_t0, v_4p4_t0, dx = None, dy = None) * 1000000\n",
    "    vort_4p4.attrs['units'] = '10-5 s-1'\n",
    "\n",
    "    circ_4p4 = (vort_4p4.loc[bv_lat[xii]-r0:bv_lat[xii]+r0, bv_lon[xii]-r0:bv_lon[xii]+r0]).mean()\n",
    "    circ_4p4_list.append(circ_4p4.values)"
   ]
  },
  {
   "cell_type": "markdown",
   "id": "90efd0ca",
   "metadata": {},
   "source": [
    "### Calculate area-averaged vorticity for ERA5"
   ]
  },
  {
   "cell_type": "code",
   "execution_count": 90,
   "id": "caa8ec8c",
   "metadata": {},
   "outputs": [
    {
     "name": "stderr",
     "output_type": "stream",
     "text": [
      "/home/home02/earshar/.conda/envs/shardy_env/lib/python3.7/site-packages/metpy/xarray.py:350: UserWarning: More than one time coordinate present for variable \"u\".\n",
      "  + varname + '.')\n"
     ]
    }
   ],
   "source": [
    "for i, it in enumerate(datetime_list):\n",
    "\n",
    "    xii = xi[i]\n",
    "    u_era5_t0 = u_era5.sel(time=datetime_list[i])\n",
    "    v_era5_t0 = v_era5.sel(time=datetime_list[i])\n",
    "\n",
    "    vort_era5 = mpcalc.vorticity(u_era5_t0, v_era5_t0, dx = None, dy = None) * 1000000\n",
    "    vort_era5.attrs['units'] = '10-5 s-1'\n",
    "\n",
    "    circ_era5 = (vort_era5.loc[bv_lat[xii]-r0:bv_lat[xii]+r0, bv_lon[xii]-r0:bv_lon[xii]+r0]).mean()\n",
    "    circ_era5_list.append(circ_era5.values)"
   ]
  },
  {
   "cell_type": "markdown",
   "id": "2df36b9d",
   "metadata": {},
   "source": [
    "### Calculate area-averaged vorticity for global MetUM \n",
    "\n",
    "- First two values of the array are blank (need to fix issue with coordinates)\n",
    "- Need to update indices in vortex array for 12-h intervals"
   ]
  },
  {
   "cell_type": "code",
   "execution_count": 91,
   "id": "de7d0edc",
   "metadata": {},
   "outputs": [
    {
     "name": "stderr",
     "output_type": "stream",
     "text": [
      "/home/home02/earshar/.conda/envs/shardy_env/lib/python3.7/site-packages/metpy/xarray.py:1431: UserWarning: Horizontal dimension numbers not found. Defaulting to (..., Y, X) order.\n",
      "  warnings.warn('Horizontal dimension numbers not found. Defaulting to '\n",
      "/home/home02/earshar/.conda/envs/shardy_env/lib/python3.7/site-packages/metpy/xarray.py:1431: UserWarning: Horizontal dimension numbers not found. Defaulting to (..., Y, X) order.\n",
      "  warnings.warn('Horizontal dimension numbers not found. Defaulting to '\n",
      "/home/home02/earshar/.conda/envs/shardy_env/lib/python3.7/site-packages/metpy/xarray.py:1431: UserWarning: Horizontal dimension numbers not found. Defaulting to (..., Y, X) order.\n",
      "  warnings.warn('Horizontal dimension numbers not found. Defaulting to '\n",
      "/home/home02/earshar/.conda/envs/shardy_env/lib/python3.7/site-packages/metpy/xarray.py:1431: UserWarning: Horizontal dimension numbers not found. Defaulting to (..., Y, X) order.\n",
      "  warnings.warn('Horizontal dimension numbers not found. Defaulting to '\n",
      "/home/home02/earshar/.conda/envs/shardy_env/lib/python3.7/site-packages/metpy/xarray.py:1431: UserWarning: Horizontal dimension numbers not found. Defaulting to (..., Y, X) order.\n",
      "  warnings.warn('Horizontal dimension numbers not found. Defaulting to '\n",
      "/home/home02/earshar/.conda/envs/shardy_env/lib/python3.7/site-packages/metpy/xarray.py:1431: UserWarning: Horizontal dimension numbers not found. Defaulting to (..., Y, X) order.\n",
      "  warnings.warn('Horizontal dimension numbers not found. Defaulting to '\n",
      "/home/home02/earshar/.conda/envs/shardy_env/lib/python3.7/site-packages/metpy/xarray.py:1431: UserWarning: Horizontal dimension numbers not found. Defaulting to (..., Y, X) order.\n",
      "  warnings.warn('Horizontal dimension numbers not found. Defaulting to '\n",
      "/home/home02/earshar/.conda/envs/shardy_env/lib/python3.7/site-packages/metpy/xarray.py:1431: UserWarning: Horizontal dimension numbers not found. Defaulting to (..., Y, X) order.\n",
      "  warnings.warn('Horizontal dimension numbers not found. Defaulting to '\n",
      "/home/home02/earshar/.conda/envs/shardy_env/lib/python3.7/site-packages/metpy/xarray.py:1431: UserWarning: Horizontal dimension numbers not found. Defaulting to (..., Y, X) order.\n",
      "  warnings.warn('Horizontal dimension numbers not found. Defaulting to '\n"
     ]
    }
   ],
   "source": [
    "xi_n768 = [4,6,8,10,12,14,16,18,20]\n",
    "datetime_list_n768 = ['2018-10-22T12', '2018-10-23T00', \n",
    "                      '2018-10-23T12', '2018-10-24T00', '2018-10-24T12', '2018-10-25T00',\n",
    "                      '2018-10-25T12', '2018-10-26T00', '2018-10-26T12']\n",
    "\n",
    "for i, it in enumerate(datetime_list_n768):\n",
    "\n",
    "    xii = xi_n768[i]\n",
    "    u_n768_t0 = u_n768.sel(t=datetime_list_n768[i])\n",
    "    v_n768_t0 = v_n768.sel(t=datetime_list_n768[i])\n",
    "\n",
    "    vort_n768 = mpcalc.vorticity(u_n768_t0, v_n768_t0, dx = None, dy = None) * 1000000\n",
    "    vort_n768.attrs['units'] = '10-5 s-1'\n",
    "\n",
    "    circ_n768 = (vort_n768.loc[bv_lat[xii]-r0:bv_lat[xii]+r0, bv_lon[xii]-r0:bv_lon[xii]+r0]).mean()\n",
    "    circ_n768_list.append(circ_n768.values)"
   ]
  },
  {
   "cell_type": "markdown",
   "id": "1a71ba99",
   "metadata": {},
   "source": [
    "### Produce time-series plot and save the output locally"
   ]
  },
  {
   "cell_type": "code",
   "execution_count": 92,
   "id": "4c8801fb",
   "metadata": {},
   "outputs": [
    {
     "data": {
      "image/png": "[encoded data removed]",
      "text/plain": [
       "<Figure size 720x432 with 1 Axes>"
      ]
     },
     "metadata": {
      "needs_background": "light"
     },
     "output_type": "display_data"
    }
   ],
   "source": [
    "fig, ax = plt.subplots(figsize=(10, 6))\n",
    "ax.plot(bv_time[0:21:2], circ_4p4_list, color='k', label='4.4 km MetUM')\n",
    "ax.plot(bv_time[4:21:2], circ_n768_list, color='b', label='Global MetUM')\n",
    "ax.plot(bv_time[0:21:2], circ_era5_list, color='r', label='ERA5 reanalysis')\n",
    "\n",
    "variable_str = 'Area-averaged relative vorticity'\n",
    "ax.set(xlabel='Time',\n",
    "        ylabel=r'Area-averaged relative vorticity ($\\mathregular{10}^{-6}$ s$\\mathregular{^{-1}}$)',\n",
    "        title=f'{variable_str} following the vortex')\n",
    "ax.grid(True)\n",
    "ax.legend(loc='upper right')\n",
    "plev_str = str(plev)\n",
    "fig.savefig(f'fig5a_{r0}deg_{plev_str}.png', dpi=200)"
   ]
  }
 ],
 "metadata": {
  "interpreter": {
   "hash": "28fbcd74c9565cd7ca8c41a4b3cbb005854fa8f252725617f8dd647821f36998"
  },
  "kernelspec": {
   "display_name": "Python 3.7.6 ('shardy_env')",
   "language": "python",
   "name": "python3"
  },
  "language_info": {
   "codemirror_mode": {
    "name": "ipython",
    "version": 3
   },
   "file_extension": ".py",
   "mimetype": "text/x-python",
   "name": "python",
   "nbconvert_exporter": "python",
   "pygments_lexer": "ipython3",
   "version": "3.7.6"
  }
 },
 "nbformat": 4,
 "nbformat_minor": 5
}
